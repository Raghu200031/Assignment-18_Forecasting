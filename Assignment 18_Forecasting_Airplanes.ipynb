{
 "cells": [
  {
   "cell_type": "markdown",
   "id": "87279715",
   "metadata": {},
   "source": [
    "# Assignment 18_Forecasting_Airplanes"
   ]
  },
  {
   "cell_type": "code",
   "execution_count": 7,
   "id": "bd0df791",
   "metadata": {},
   "outputs": [],
   "source": [
    "import pandas as pd"
   ]
  },
  {
   "cell_type": "code",
   "execution_count": 8,
   "id": "acb44be9",
   "metadata": {},
   "outputs": [],
   "source": [
    "df=pd.read_excel('C:\\\\Users\\\\Raghavendra\\\\OneDrive\\\\Desktop\\\\assignment\\Airlines+Data.xlsx')"
   ]
  },
  {
   "cell_type": "code",
   "execution_count": 9,
   "id": "39679bbe",
   "metadata": {},
   "outputs": [
    {
     "data": {
      "text/html": [
       "<div>\n",
       "<style scoped>\n",
       "    .dataframe tbody tr th:only-of-type {\n",
       "        vertical-align: middle;\n",
       "    }\n",
       "\n",
       "    .dataframe tbody tr th {\n",
       "        vertical-align: top;\n",
       "    }\n",
       "\n",
       "    .dataframe thead th {\n",
       "        text-align: right;\n",
       "    }\n",
       "</style>\n",
       "<table border=\"1\" class=\"dataframe\">\n",
       "  <thead>\n",
       "    <tr style=\"text-align: right;\">\n",
       "      <th></th>\n",
       "      <th>Month</th>\n",
       "      <th>Passengers</th>\n",
       "    </tr>\n",
       "  </thead>\n",
       "  <tbody>\n",
       "    <tr>\n",
       "      <th>0</th>\n",
       "      <td>1995-01-01</td>\n",
       "      <td>112</td>\n",
       "    </tr>\n",
       "    <tr>\n",
       "      <th>1</th>\n",
       "      <td>1995-02-01</td>\n",
       "      <td>118</td>\n",
       "    </tr>\n",
       "    <tr>\n",
       "      <th>2</th>\n",
       "      <td>1995-03-01</td>\n",
       "      <td>132</td>\n",
       "    </tr>\n",
       "    <tr>\n",
       "      <th>3</th>\n",
       "      <td>1995-04-01</td>\n",
       "      <td>129</td>\n",
       "    </tr>\n",
       "    <tr>\n",
       "      <th>4</th>\n",
       "      <td>1995-05-01</td>\n",
       "      <td>121</td>\n",
       "    </tr>\n",
       "  </tbody>\n",
       "</table>\n",
       "</div>"
      ],
      "text/plain": [
       "       Month  Passengers\n",
       "0 1995-01-01         112\n",
       "1 1995-02-01         118\n",
       "2 1995-03-01         132\n",
       "3 1995-04-01         129\n",
       "4 1995-05-01         121"
      ]
     },
     "execution_count": 9,
     "metadata": {},
     "output_type": "execute_result"
    }
   ],
   "source": [
    "df.head()"
   ]
  },
  {
   "cell_type": "code",
   "execution_count": 10,
   "id": "e0a75536",
   "metadata": {},
   "outputs": [
    {
     "data": {
      "text/html": [
       "<div>\n",
       "<style scoped>\n",
       "    .dataframe tbody tr th:only-of-type {\n",
       "        vertical-align: middle;\n",
       "    }\n",
       "\n",
       "    .dataframe tbody tr th {\n",
       "        vertical-align: top;\n",
       "    }\n",
       "\n",
       "    .dataframe thead th {\n",
       "        text-align: right;\n",
       "    }\n",
       "</style>\n",
       "<table border=\"1\" class=\"dataframe\">\n",
       "  <thead>\n",
       "    <tr style=\"text-align: right;\">\n",
       "      <th></th>\n",
       "      <th>Month</th>\n",
       "      <th>Passengers</th>\n",
       "    </tr>\n",
       "  </thead>\n",
       "  <tbody>\n",
       "    <tr>\n",
       "      <th>91</th>\n",
       "      <td>2002-08-01</td>\n",
       "      <td>405</td>\n",
       "    </tr>\n",
       "    <tr>\n",
       "      <th>92</th>\n",
       "      <td>2002-09-01</td>\n",
       "      <td>355</td>\n",
       "    </tr>\n",
       "    <tr>\n",
       "      <th>93</th>\n",
       "      <td>2002-10-01</td>\n",
       "      <td>306</td>\n",
       "    </tr>\n",
       "    <tr>\n",
       "      <th>94</th>\n",
       "      <td>2002-11-01</td>\n",
       "      <td>271</td>\n",
       "    </tr>\n",
       "    <tr>\n",
       "      <th>95</th>\n",
       "      <td>2002-12-01</td>\n",
       "      <td>306</td>\n",
       "    </tr>\n",
       "  </tbody>\n",
       "</table>\n",
       "</div>"
      ],
      "text/plain": [
       "        Month  Passengers\n",
       "91 2002-08-01         405\n",
       "92 2002-09-01         355\n",
       "93 2002-10-01         306\n",
       "94 2002-11-01         271\n",
       "95 2002-12-01         306"
      ]
     },
     "execution_count": 10,
     "metadata": {},
     "output_type": "execute_result"
    }
   ],
   "source": [
    "df.tail()"
   ]
  },
  {
   "cell_type": "code",
   "execution_count": 11,
   "id": "3824b1ab",
   "metadata": {},
   "outputs": [],
   "source": [
    "import matplotlib.pyplot as plt"
   ]
  },
  {
   "cell_type": "code",
   "execution_count": 12,
   "id": "9709b7a0",
   "metadata": {},
   "outputs": [
    {
     "data": {
      "text/plain": [
       "[<matplotlib.lines.Line2D at 0x2162dd234c0>]"
      ]
     },
     "execution_count": 12,
     "metadata": {},
     "output_type": "execute_result"
    },
    {
     "data": {
      "image/png": "[encoded data removed]",
      "text/plain": [
       "<Figure size 432x288 with 1 Axes>"
      ]
     },
     "metadata": {
      "needs_background": "light"
     },
     "output_type": "display_data"
    }
   ],
   "source": [
    "plt.plot(df.iloc[:,1])"
   ]
  },
  {
   "cell_type": "markdown",
   "id": "6b40d68e",
   "metadata": {},
   "source": [
    "## Scaling"
   ]
  },
  {
   "cell_type": "markdown",
   "id": "5a4c05b4",
   "metadata": {},
   "source": [
    "#### LSTMs are sensitive to the scale of the input data, specifically when the sigmoid (default) or tanh activation functions are used. It can be a good practice to rescale the data to the range of 0-to-1, also called normalizing. We can easily normalize the dataset using the MinMaxScaler preprocessing class from the scikit-learn library."
   ]
  },
  {
   "cell_type": "code",
   "execution_count": 13,
   "id": "54fd93ee",
   "metadata": {},
   "outputs": [],
   "source": [
    "from sklearn.preprocessing import MinMaxScaler"
   ]
  },
  {
   "cell_type": "code",
   "execution_count": 14,
   "id": "ccf1b409",
   "metadata": {},
   "outputs": [
    {
     "data": {
      "text/plain": [
       "0     112\n",
       "1     118\n",
       "2     132\n",
       "3     129\n",
       "4     121\n",
       "     ... \n",
       "91    405\n",
       "92    355\n",
       "93    306\n",
       "94    271\n",
       "95    306\n",
       "Name: Passengers, Length: 96, dtype: int64"
      ]
     },
     "execution_count": 14,
     "metadata": {},
     "output_type": "execute_result"
    }
   ],
   "source": [
    "df.iloc[:,1]"
   ]
  },
  {
   "cell_type": "code",
   "execution_count": 15,
   "id": "9e3008d2",
   "metadata": {},
   "outputs": [],
   "source": [
    "scaler=MinMaxScaler(feature_range=(0,1))\n",
    "df=scaler.fit_transform(df.iloc[:,1:])"
   ]
  },
  {
   "cell_type": "code",
   "execution_count": 16,
   "id": "68011a06",
   "metadata": {},
   "outputs": [
    {
     "data": {
      "text/plain": [
       "(96, 1)"
      ]
     },
     "execution_count": 16,
     "metadata": {},
     "output_type": "execute_result"
    }
   ],
   "source": [
    "df.shape"
   ]
  },
  {
   "cell_type": "code",
   "execution_count": 17,
   "id": "e7d4deef",
   "metadata": {},
   "outputs": [
    {
     "data": {
      "text/plain": [
       "array([[0.02588997],\n",
       "       [0.04530744],\n",
       "       [0.09061489],\n",
       "       [0.08090615],\n",
       "       [0.05501618],\n",
       "       [0.10032362],\n",
       "       [0.14239482],\n",
       "       [0.14239482],\n",
       "       [0.10355987],\n",
       "       [0.04854369],\n",
       "       [0.        ],\n",
       "       [0.04530744],\n",
       "       [0.03559871],\n",
       "       [0.07119741],\n",
       "       [0.1197411 ],\n",
       "       [0.10032362],\n",
       "       [0.06796117],\n",
       "       [0.14563107],\n",
       "       [0.21359223],\n",
       "       [0.21359223],\n",
       "       [0.17475728],\n",
       "       [0.09385113],\n",
       "       [0.03236246],\n",
       "       [0.11650485],\n",
       "       [0.13268608],\n",
       "       [0.14886731],\n",
       "       [0.2394822 ],\n",
       "       [0.19093851],\n",
       "       [0.22006472],\n",
       "       [0.2394822 ],\n",
       "       [0.30744337],\n",
       "       [0.30744337],\n",
       "       [0.25889968],\n",
       "       [0.18770227],\n",
       "       [0.13592233],\n",
       "       [0.20064725],\n",
       "       [0.21682848],\n",
       "       [0.24595469],\n",
       "       [0.28802589],\n",
       "       [0.24919094],\n",
       "       [0.25566343],\n",
       "       [0.36893204],\n",
       "       [0.40776699],\n",
       "       [0.44660194],\n",
       "       [0.33980583],\n",
       "       [0.2815534 ],\n",
       "       [0.22006472],\n",
       "       [0.29126214],\n",
       "       [0.29773463],\n",
       "       [0.29773463],\n",
       "       [0.42718447],\n",
       "       [0.42394822],\n",
       "       [0.40453074],\n",
       "       [0.44983819],\n",
       "       [0.51779935],\n",
       "       [0.54368932],\n",
       "       [0.43042071],\n",
       "       [0.34627832],\n",
       "       [0.24595469],\n",
       "       [0.31391586],\n",
       "       [0.3236246 ],\n",
       "       [0.27184466],\n",
       "       [0.42394822],\n",
       "       [0.39805825],\n",
       "       [0.42071197],\n",
       "       [0.51779935],\n",
       "       [0.6407767 ],\n",
       "       [0.61165049],\n",
       "       [0.50161812],\n",
       "       [0.40453074],\n",
       "       [0.32038835],\n",
       "       [0.40453074],\n",
       "       [0.44660194],\n",
       "       [0.41747573],\n",
       "       [0.52750809],\n",
       "       [0.53398058],\n",
       "       [0.53721683],\n",
       "       [0.6828479 ],\n",
       "       [0.84142395],\n",
       "       [0.78640777],\n",
       "       [0.67313916],\n",
       "       [0.55016181],\n",
       "       [0.43042071],\n",
       "       [0.5631068 ],\n",
       "       [0.58252427],\n",
       "       [0.55987055],\n",
       "       [0.68932039],\n",
       "       [0.6763754 ],\n",
       "       [0.69255663],\n",
       "       [0.87378641],\n",
       "       [1.        ],\n",
       "       [0.97411003],\n",
       "       [0.81229773],\n",
       "       [0.65372168],\n",
       "       [0.54045307],\n",
       "       [0.65372168]])"
      ]
     },
     "execution_count": 17,
     "metadata": {},
     "output_type": "execute_result"
    }
   ],
   "source": [
    "df"
   ]
  },
  {
   "cell_type": "code",
   "execution_count": 18,
   "id": "d85012bd",
   "metadata": {},
   "outputs": [],
   "source": [
    "##splitting dataset into train and test split\n",
    "training_size=int(len(df)*0.65)"
   ]
  },
  {
   "cell_type": "code",
   "execution_count": 19,
   "id": "583fb55b",
   "metadata": {},
   "outputs": [
    {
     "data": {
      "text/plain": [
       "62"
      ]
     },
     "execution_count": 19,
     "metadata": {},
     "output_type": "execute_result"
    }
   ],
   "source": [
    "training_size"
   ]
  },
  {
   "cell_type": "code",
   "execution_count": 20,
   "id": "232ac7de",
   "metadata": {},
   "outputs": [],
   "source": [
    "test_size=len(df)-training_size"
   ]
  },
  {
   "cell_type": "code",
   "execution_count": 21,
   "id": "94e748e6",
   "metadata": {},
   "outputs": [
    {
     "data": {
      "text/plain": [
       "34"
      ]
     },
     "execution_count": 21,
     "metadata": {},
     "output_type": "execute_result"
    }
   ],
   "source": [
    "test_size"
   ]
  },
  {
   "cell_type": "code",
   "execution_count": 22,
   "id": "8cfbec1f",
   "metadata": {},
   "outputs": [],
   "source": [
    "train_data,test_data=df[0:training_size,:],df[training_size:len(df),:1]"
   ]
  },
  {
   "cell_type": "code",
   "execution_count": 23,
   "id": "107f7a19",
   "metadata": {},
   "outputs": [
    {
     "data": {
      "text/plain": [
       "array([[0.02588997],\n",
       "       [0.04530744],\n",
       "       [0.09061489],\n",
       "       [0.08090615],\n",
       "       [0.05501618],\n",
       "       [0.10032362],\n",
       "       [0.14239482],\n",
       "       [0.14239482],\n",
       "       [0.10355987],\n",
       "       [0.04854369],\n",
       "       [0.        ],\n",
       "       [0.04530744],\n",
       "       [0.03559871],\n",
       "       [0.07119741],\n",
       "       [0.1197411 ],\n",
       "       [0.10032362],\n",
       "       [0.06796117],\n",
       "       [0.14563107],\n",
       "       [0.21359223],\n",
       "       [0.21359223],\n",
       "       [0.17475728],\n",
       "       [0.09385113],\n",
       "       [0.03236246],\n",
       "       [0.11650485],\n",
       "       [0.13268608],\n",
       "       [0.14886731],\n",
       "       [0.2394822 ],\n",
       "       [0.19093851],\n",
       "       [0.22006472],\n",
       "       [0.2394822 ],\n",
       "       [0.30744337],\n",
       "       [0.30744337],\n",
       "       [0.25889968],\n",
       "       [0.18770227],\n",
       "       [0.13592233],\n",
       "       [0.20064725],\n",
       "       [0.21682848],\n",
       "       [0.24595469],\n",
       "       [0.28802589],\n",
       "       [0.24919094],\n",
       "       [0.25566343],\n",
       "       [0.36893204],\n",
       "       [0.40776699],\n",
       "       [0.44660194],\n",
       "       [0.33980583],\n",
       "       [0.2815534 ],\n",
       "       [0.22006472],\n",
       "       [0.29126214],\n",
       "       [0.29773463],\n",
       "       [0.29773463],\n",
       "       [0.42718447],\n",
       "       [0.42394822],\n",
       "       [0.40453074],\n",
       "       [0.44983819],\n",
       "       [0.51779935],\n",
       "       [0.54368932],\n",
       "       [0.43042071],\n",
       "       [0.34627832],\n",
       "       [0.24595469],\n",
       "       [0.31391586],\n",
       "       [0.3236246 ],\n",
       "       [0.27184466]])"
      ]
     },
     "execution_count": 23,
     "metadata": {},
     "output_type": "execute_result"
    }
   ],
   "source": [
    "train_data"
   ]
  },
  {
   "cell_type": "code",
   "execution_count": 24,
   "id": "ee6cfd5d",
   "metadata": {},
   "outputs": [
    {
     "data": {
      "text/plain": [
       "array([[0.42394822],\n",
       "       [0.39805825],\n",
       "       [0.42071197],\n",
       "       [0.51779935],\n",
       "       [0.6407767 ],\n",
       "       [0.61165049],\n",
       "       [0.50161812],\n",
       "       [0.40453074],\n",
       "       [0.32038835],\n",
       "       [0.40453074],\n",
       "       [0.44660194],\n",
       "       [0.41747573],\n",
       "       [0.52750809],\n",
       "       [0.53398058],\n",
       "       [0.53721683],\n",
       "       [0.6828479 ],\n",
       "       [0.84142395],\n",
       "       [0.78640777],\n",
       "       [0.67313916],\n",
       "       [0.55016181],\n",
       "       [0.43042071],\n",
       "       [0.5631068 ],\n",
       "       [0.58252427],\n",
       "       [0.55987055],\n",
       "       [0.68932039],\n",
       "       [0.6763754 ],\n",
       "       [0.69255663],\n",
       "       [0.87378641],\n",
       "       [1.        ],\n",
       "       [0.97411003],\n",
       "       [0.81229773],\n",
       "       [0.65372168],\n",
       "       [0.54045307],\n",
       "       [0.65372168]])"
      ]
     },
     "execution_count": 24,
     "metadata": {},
     "output_type": "execute_result"
    }
   ],
   "source": [
    "test_data"
   ]
  },
  {
   "cell_type": "code",
   "execution_count": 25,
   "id": "490efca7",
   "metadata": {},
   "outputs": [],
   "source": [
    "import numpy as np\n",
    "# convert an array of values into a dataset matrix\n",
    "def create_dataset(dataset, time_step=1):\n",
    "\tdataX, dataY = [], []\n",
    "\tfor i in range(len(dataset)-time_step-1):\n",
    "\t\ta = dataset[i:(i+time_step), 0]   ###i=0, 0,1,2,3\n",
    "\t\tdataX.append(a)\n",
    "\t\tdataY.append(dataset[i + time_step, 0])\n",
    "\treturn np.array(dataX), np.array(dataY)"
   ]
  },
  {
   "cell_type": "code",
   "execution_count": 26,
   "id": "26e41068",
   "metadata": {},
   "outputs": [],
   "source": [
    "# reshape into X=t,t+1,t+2,t+3 and Y=t+4\n",
    "time_step = 4\n",
    "X_train, y_train = create_dataset(train_data, time_step)\n",
    "X_test, ytest = create_dataset(test_data, time_step)"
   ]
  },
  {
   "cell_type": "code",
   "execution_count": 27,
   "id": "8622aad9",
   "metadata": {},
   "outputs": [
    {
     "data": {
      "text/plain": [
       "((57, 4), (57,))"
      ]
     },
     "execution_count": 27,
     "metadata": {},
     "output_type": "execute_result"
    }
   ],
   "source": [
    "X_train.shape, y_train.shape"
   ]
  },
  {
   "cell_type": "code",
   "execution_count": 28,
   "id": "d1022b48",
   "metadata": {},
   "outputs": [],
   "source": [
    "import numpy as np\n",
    "# reshape input to be [samples, time steps, features] which is required for LSTM\n",
    "X_train =X_train.reshape(X_train.shape[0], 4, 1)\n",
    "X_test = X_test.reshape(X_test.shape[0], 4, 1)"
   ]
  },
  {
   "cell_type": "code",
   "execution_count": 29,
   "id": "367c4c8c",
   "metadata": {},
   "outputs": [
    {
     "data": {
      "text/plain": [
       "(57, 4, 1)"
      ]
     },
     "execution_count": 29,
     "metadata": {},
     "output_type": "execute_result"
    }
   ],
   "source": [
    "X_train.shape"
   ]
  },
  {
   "cell_type": "code",
   "execution_count": 35,
   "id": "cc65e97a",
   "metadata": {},
   "outputs": [],
   "source": [
    "### Create the LSTM model\n",
    "from tensorflow.keras.models import Sequential\n",
    "from tensorflow.keras.layers import Dense\n",
    "from tensorflow.keras.layers import LSTM"
   ]
  },
  {
   "cell_type": "code",
   "execution_count": 36,
   "id": "a67505e5",
   "metadata": {},
   "outputs": [
    {
     "name": "stdout",
     "output_type": "stream",
     "text": [
      "Epoch 1/100\n",
      "57/57 [==============================] - 7s 40ms/step - loss: 0.0206 - val_loss: 0.0717\n",
      "Epoch 2/100\n",
      "57/57 [==============================] - 1s 10ms/step - loss: 0.0109 - val_loss: 0.0765\n",
      "Epoch 3/100\n",
      "57/57 [==============================] - 1s 10ms/step - loss: 0.0087 - val_loss: 0.0407\n",
      "Epoch 4/100\n",
      "57/57 [==============================] - 1s 10ms/step - loss: 0.0090 - val_loss: 0.0435\n",
      "Epoch 5/100\n",
      "57/57 [==============================] - 1s 10ms/step - loss: 0.0084 - val_loss: 0.0399\n",
      "Epoch 6/100\n",
      "57/57 [==============================] - 1s 9ms/step - loss: 0.0076 - val_loss: 0.0537\n",
      "Epoch 7/100\n",
      "57/57 [==============================] - 1s 10ms/step - loss: 0.0084 - val_loss: 0.0280\n",
      "Epoch 8/100\n",
      "57/57 [==============================] - 0s 8ms/step - loss: 0.0088 - val_loss: 0.0483\n",
      "Epoch 9/100\n",
      "57/57 [==============================] - 0s 9ms/step - loss: 0.0066 - val_loss: 0.0384\n",
      "Epoch 10/100\n",
      "57/57 [==============================] - 1s 9ms/step - loss: 0.0075 - val_loss: 0.0320\n",
      "Epoch 11/100\n",
      "57/57 [==============================] - 1s 9ms/step - loss: 0.0075 - val_loss: 0.0254\n",
      "Epoch 12/100\n",
      "57/57 [==============================] - 0s 8ms/step - loss: 0.0074 - val_loss: 0.0349\n",
      "Epoch 13/100\n",
      "57/57 [==============================] - 1s 10ms/step - loss: 0.0085 - val_loss: 0.0340\n",
      "Epoch 14/100\n",
      "57/57 [==============================] - 1s 9ms/step - loss: 0.0069 - val_loss: 0.0340\n",
      "Epoch 15/100\n",
      "57/57 [==============================] - 0s 9ms/step - loss: 0.0062 - val_loss: 0.0521\n",
      "Epoch 16/100\n",
      "57/57 [==============================] - 0s 9ms/step - loss: 0.0073 - val_loss: 0.0368\n",
      "Epoch 17/100\n",
      "57/57 [==============================] - 1s 9ms/step - loss: 0.0066 - val_loss: 0.0260\n",
      "Epoch 18/100\n",
      "57/57 [==============================] - 0s 8ms/step - loss: 0.0066 - val_loss: 0.0399\n",
      "Epoch 19/100\n",
      "57/57 [==============================] - 0s 9ms/step - loss: 0.0062 - val_loss: 0.0462\n",
      "Epoch 20/100\n",
      "57/57 [==============================] - 0s 9ms/step - loss: 0.0069 - val_loss: 0.0221\n",
      "Epoch 21/100\n",
      "57/57 [==============================] - 1s 9ms/step - loss: 0.0059 - val_loss: 0.0291\n",
      "Epoch 22/100\n",
      "57/57 [==============================] - 0s 8ms/step - loss: 0.0053 - val_loss: 0.0240\n",
      "Epoch 23/100\n",
      "57/57 [==============================] - 0s 8ms/step - loss: 0.0052 - val_loss: 0.0236\n",
      "Epoch 24/100\n",
      "57/57 [==============================] - 0s 8ms/step - loss: 0.0054 - val_loss: 0.0243\n",
      "Epoch 25/100\n",
      "57/57 [==============================] - 0s 8ms/step - loss: 0.0046 - val_loss: 0.0259\n",
      "Epoch 26/100\n",
      "57/57 [==============================] - 1s 9ms/step - loss: 0.0050 - val_loss: 0.0266\n",
      "Epoch 27/100\n",
      "57/57 [==============================] - 0s 9ms/step - loss: 0.0045 - val_loss: 0.0212\n",
      "Epoch 28/100\n",
      "57/57 [==============================] - 0s 8ms/step - loss: 0.0038 - val_loss: 0.0095\n",
      "Epoch 29/100\n",
      "57/57 [==============================] - 0s 8ms/step - loss: 0.0037 - val_loss: 0.0241\n",
      "Epoch 30/100\n",
      "57/57 [==============================] - 0s 8ms/step - loss: 0.0040 - val_loss: 0.0206\n",
      "Epoch 31/100\n",
      "57/57 [==============================] - 1s 9ms/step - loss: 0.0035 - val_loss: 0.0178\n",
      "Epoch 32/100\n",
      "57/57 [==============================] - 1s 9ms/step - loss: 0.0037 - val_loss: 0.0104\n",
      "Epoch 33/100\n",
      "57/57 [==============================] - 0s 9ms/step - loss: 0.0034 - val_loss: 0.0194\n",
      "Epoch 34/100\n",
      "57/57 [==============================] - 0s 8ms/step - loss: 0.0034 - val_loss: 0.0156\n",
      "Epoch 35/100\n",
      "57/57 [==============================] - 1s 9ms/step - loss: 0.0032 - val_loss: 0.0196\n",
      "Epoch 36/100\n",
      "57/57 [==============================] - 1s 9ms/step - loss: 0.0032 - val_loss: 0.0219\n",
      "Epoch 37/100\n",
      "57/57 [==============================] - 0s 8ms/step - loss: 0.0032 - val_loss: 0.0205\n",
      "Epoch 38/100\n",
      "57/57 [==============================] - 0s 9ms/step - loss: 0.0032 - val_loss: 0.0072\n",
      "Epoch 39/100\n",
      "57/57 [==============================] - 1s 9ms/step - loss: 0.0031 - val_loss: 0.0097\n",
      "Epoch 40/100\n",
      "57/57 [==============================] - 1s 9ms/step - loss: 0.0031 - val_loss: 0.0084\n",
      "Epoch 41/100\n",
      "57/57 [==============================] - 0s 9ms/step - loss: 0.0034 - val_loss: 0.0073\n",
      "Epoch 42/100\n",
      "57/57 [==============================] - 0s 9ms/step - loss: 0.0030 - val_loss: 0.0102\n",
      "Epoch 43/100\n",
      "57/57 [==============================] - 0s 9ms/step - loss: 0.0033 - val_loss: 0.0115\n",
      "Epoch 44/100\n",
      "57/57 [==============================] - 0s 9ms/step - loss: 0.0031 - val_loss: 0.0078\n",
      "Epoch 45/100\n",
      "57/57 [==============================] - 0s 8ms/step - loss: 0.0033 - val_loss: 0.0080\n",
      "Epoch 46/100\n",
      "57/57 [==============================] - 0s 9ms/step - loss: 0.0031 - val_loss: 0.0109\n",
      "Epoch 47/100\n",
      "57/57 [==============================] - 1s 9ms/step - loss: 0.0029 - val_loss: 0.0085\n",
      "Epoch 48/100\n",
      "57/57 [==============================] - 1s 9ms/step - loss: 0.0033 - val_loss: 0.0087\n",
      "Epoch 49/100\n",
      "57/57 [==============================] - 0s 9ms/step - loss: 0.0030 - val_loss: 0.0173\n",
      "Epoch 50/100\n",
      "57/57 [==============================] - 1s 9ms/step - loss: 0.0031 - val_loss: 0.0098\n",
      "Epoch 51/100\n",
      "57/57 [==============================] - 1s 9ms/step - loss: 0.0031 - val_loss: 0.0080\n",
      "Epoch 52/100\n",
      "57/57 [==============================] - 1s 9ms/step - loss: 0.0033 - val_loss: 0.0110\n",
      "Epoch 53/100\n",
      "57/57 [==============================] - 1s 9ms/step - loss: 0.0030 - val_loss: 0.0106\n",
      "Epoch 54/100\n",
      "57/57 [==============================] - 1s 9ms/step - loss: 0.0029 - val_loss: 0.0069\n",
      "Epoch 55/100\n",
      "57/57 [==============================] - 1s 9ms/step - loss: 0.0032 - val_loss: 0.0070\n",
      "Epoch 56/100\n",
      "57/57 [==============================] - 1s 9ms/step - loss: 0.0035 - val_loss: 0.0171\n",
      "Epoch 57/100\n",
      "57/57 [==============================] - 1s 9ms/step - loss: 0.0035 - val_loss: 0.0176\n",
      "Epoch 58/100\n",
      "57/57 [==============================] - 1s 9ms/step - loss: 0.0033 - val_loss: 0.0099\n",
      "Epoch 59/100\n",
      "57/57 [==============================] - 1s 9ms/step - loss: 0.0028 - val_loss: 0.0094\n",
      "Epoch 60/100\n",
      "57/57 [==============================] - 0s 8ms/step - loss: 0.0033 - val_loss: 0.0089\n",
      "Epoch 61/100\n",
      "57/57 [==============================] - 0s 8ms/step - loss: 0.0027 - val_loss: 0.0155\n",
      "Epoch 62/100\n",
      "57/57 [==============================] - 0s 8ms/step - loss: 0.0031 - val_loss: 0.0112\n",
      "Epoch 63/100\n",
      "57/57 [==============================] - 1s 9ms/step - loss: 0.0032 - val_loss: 0.0080\n",
      "Epoch 64/100\n",
      "57/57 [==============================] - 0s 9ms/step - loss: 0.0033 - val_loss: 0.0105\n",
      "Epoch 65/100\n",
      "57/57 [==============================] - 1s 9ms/step - loss: 0.0030 - val_loss: 0.0128\n",
      "Epoch 66/100\n",
      "57/57 [==============================] - 0s 9ms/step - loss: 0.0029 - val_loss: 0.0099\n",
      "Epoch 67/100\n",
      "57/57 [==============================] - 0s 9ms/step - loss: 0.0034 - val_loss: 0.0104\n",
      "Epoch 68/100\n",
      "57/57 [==============================] - 1s 9ms/step - loss: 0.0033 - val_loss: 0.0089\n",
      "Epoch 69/100\n",
      "57/57 [==============================] - 1s 9ms/step - loss: 0.0029 - val_loss: 0.0139\n",
      "Epoch 70/100\n",
      "57/57 [==============================] - 0s 9ms/step - loss: 0.0031 - val_loss: 0.0085\n",
      "Epoch 71/100\n",
      "57/57 [==============================] - 1s 9ms/step - loss: 0.0028 - val_loss: 0.0074\n",
      "Epoch 72/100\n",
      "57/57 [==============================] - 1s 9ms/step - loss: 0.0035 - val_loss: 0.0092\n",
      "Epoch 73/100\n",
      "57/57 [==============================] - 1s 9ms/step - loss: 0.0029 - val_loss: 0.0092\n",
      "Epoch 74/100\n",
      "57/57 [==============================] - 0s 9ms/step - loss: 0.0032 - val_loss: 0.0126\n",
      "Epoch 75/100\n",
      "57/57 [==============================] - 1s 9ms/step - loss: 0.0031 - val_loss: 0.0142\n",
      "Epoch 76/100\n",
      "57/57 [==============================] - 1s 9ms/step - loss: 0.0032 - val_loss: 0.0105\n",
      "Epoch 77/100\n",
      "57/57 [==============================] - 0s 9ms/step - loss: 0.0029 - val_loss: 0.0085\n",
      "Epoch 78/100\n",
      "57/57 [==============================] - 1s 9ms/step - loss: 0.0027 - val_loss: 0.0199\n",
      "Epoch 79/100\n",
      "57/57 [==============================] - 1s 9ms/step - loss: 0.0029 - val_loss: 0.0099\n",
      "Epoch 80/100\n",
      "57/57 [==============================] - 1s 9ms/step - loss: 0.0031 - val_loss: 0.0249\n",
      "Epoch 81/100\n",
      "57/57 [==============================] - 1s 9ms/step - loss: 0.0032 - val_loss: 0.0084\n",
      "Epoch 82/100\n",
      "57/57 [==============================] - 1s 9ms/step - loss: 0.0033 - val_loss: 0.0130\n"
     ]
    },
    {
     "name": "stdout",
     "output_type": "stream",
     "text": [
      "Epoch 83/100\n",
      "57/57 [==============================] - 1s 9ms/step - loss: 0.0033 - val_loss: 0.0139\n",
      "Epoch 84/100\n",
      "57/57 [==============================] - 0s 8ms/step - loss: 0.0033 - val_loss: 0.0131\n",
      "Epoch 85/100\n",
      "57/57 [==============================] - 1s 9ms/step - loss: 0.0031 - val_loss: 0.0091\n",
      "Epoch 86/100\n",
      "57/57 [==============================] - 0s 8ms/step - loss: 0.0030 - val_loss: 0.0097\n",
      "Epoch 87/100\n",
      "57/57 [==============================] - 1s 9ms/step - loss: 0.0029 - val_loss: 0.0122\n",
      "Epoch 88/100\n",
      "57/57 [==============================] - 1s 9ms/step - loss: 0.0028 - val_loss: 0.0152\n",
      "Epoch 89/100\n",
      "57/57 [==============================] - 1s 9ms/step - loss: 0.0029 - val_loss: 0.0131\n",
      "Epoch 90/100\n",
      "57/57 [==============================] - 0s 9ms/step - loss: 0.0031 - val_loss: 0.0131\n",
      "Epoch 91/100\n",
      "57/57 [==============================] - 0s 9ms/step - loss: 0.0029 - val_loss: 0.0126\n",
      "Epoch 92/100\n",
      "57/57 [==============================] - 0s 8ms/step - loss: 0.0029 - val_loss: 0.0099\n",
      "Epoch 93/100\n",
      "57/57 [==============================] - 0s 8ms/step - loss: 0.0029 - val_loss: 0.0109\n",
      "Epoch 94/100\n",
      "57/57 [==============================] - 0s 8ms/step - loss: 0.0031 - val_loss: 0.0090\n",
      "Epoch 95/100\n",
      "57/57 [==============================] - 1s 9ms/step - loss: 0.0033 - val_loss: 0.0119\n",
      "Epoch 96/100\n",
      "57/57 [==============================] - 1s 9ms/step - loss: 0.0029 - val_loss: 0.0104\n",
      "Epoch 97/100\n",
      "57/57 [==============================] - 1s 9ms/step - loss: 0.0032 - val_loss: 0.0104\n",
      "Epoch 98/100\n",
      "57/57 [==============================] - 1s 9ms/step - loss: 0.0028 - val_loss: 0.0080\n",
      "Epoch 99/100\n",
      "57/57 [==============================] - 1s 9ms/step - loss: 0.0031 - val_loss: 0.0135\n",
      "Epoch 100/100\n",
      "57/57 [==============================] - 0s 8ms/step - loss: 0.0030 - val_loss: 0.0094\n"
     ]
    },
    {
     "data": {
      "text/plain": [
       "<keras.callbacks.History at 0x2163706ec40>"
      ]
     },
     "execution_count": 36,
     "metadata": {},
     "output_type": "execute_result"
    }
   ],
   "source": [
    "model=Sequential()\n",
    "model.add(LSTM(50,return_sequences=True,input_shape=(4,1)))\n",
    "model.add(LSTM(50))\n",
    "model.add(Dense(1))\n",
    "model.compile(loss='mean_squared_error',optimizer='adam')\n",
    "model.fit(X_train,y_train,validation_data=(X_test,ytest),epochs=100,batch_size=1,verbose=1)"
   ]
  },
  {
   "cell_type": "code",
   "execution_count": 45,
   "id": "a1b151d7",
   "metadata": {},
   "outputs": [
    {
     "name": "stdout",
     "output_type": "stream",
     "text": [
      "2/2 [==============================] - 0s 10ms/step\n",
      "1/1 [==============================] - 0s 41ms/step\n"
     ]
    }
   ],
   "source": [
    "train_predict=model.predict(X_train)\n",
    "test_predict=model.predict(X_test)"
   ]
  },
  {
   "cell_type": "code",
   "execution_count": 38,
   "id": "9664e67e",
   "metadata": {},
   "outputs": [
    {
     "data": {
      "text/plain": [
       "array([[0.55388874],\n",
       "       [0.6573917 ],\n",
       "       [0.5299735 ],\n",
       "       [0.40715542],\n",
       "       [0.3921086 ],\n",
       "       [0.34833863],\n",
       "       [0.46914127],\n",
       "       [0.478364  ],\n",
       "       [0.392602  ],\n",
       "       [0.5548664 ],\n",
       "       [0.5245366 ],\n",
       "       [0.49657178],\n",
       "       [0.7090261 ],\n",
       "       [0.83759534],\n",
       "       [0.6081889 ],\n",
       "       [0.5124398 ],\n",
       "       [0.50465477],\n",
       "       [0.43340176],\n",
       "       [0.6440703 ],\n",
       "       [0.59532905],\n",
       "       [0.49275815],\n",
       "       [0.70351577],\n",
       "       [0.6209564 ],\n",
       "       [0.61075026],\n",
       "       [0.8834142 ],\n",
       "       [0.9179997 ],\n",
       "       [0.7323574 ],\n",
       "       [0.58335793],\n",
       "       [0.56062114]], dtype=float32)"
      ]
     },
     "execution_count": 38,
     "metadata": {},
     "output_type": "execute_result"
    }
   ],
   "source": [
    "test_predict"
   ]
  },
  {
   "cell_type": "code",
   "execution_count": 39,
   "id": "5e81090b",
   "metadata": {},
   "outputs": [],
   "source": [
    "##Transformback to original form\n",
    "train_predict=scaler.inverse_transform(train_predict)\n",
    "test_predict=scaler.inverse_transform(test_predict)"
   ]
  },
  {
   "cell_type": "code",
   "execution_count": 40,
   "id": "51ed5967",
   "metadata": {},
   "outputs": [
    {
     "data": {
      "text/plain": [
       "array([[275.15164],\n",
       "       [307.13406],\n",
       "       [267.7618 ],\n",
       "       [229.81102],\n",
       "       [225.16156],\n",
       "       [211.63664],\n",
       "       [248.96466],\n",
       "       [251.81448],\n",
       "       [225.31401],\n",
       "       [275.4537 ],\n",
       "       [266.08182],\n",
       "       [257.44067],\n",
       "       [323.08905],\n",
       "       [362.81696],\n",
       "       [291.9304 ],\n",
       "       [262.3439 ],\n",
       "       [259.93832],\n",
       "       [237.92116],\n",
       "       [303.01773],\n",
       "       [287.9567 ],\n",
       "       [256.26227],\n",
       "       [321.38635],\n",
       "       [295.87555],\n",
       "       [292.72183],\n",
       "       [376.975  ],\n",
       "       [387.66193],\n",
       "       [330.29843],\n",
       "       [284.2576 ],\n",
       "       [277.23193]], dtype=float32)"
      ]
     },
     "execution_count": 40,
     "metadata": {},
     "output_type": "execute_result"
    }
   ],
   "source": [
    "test_predict"
   ]
  },
  {
   "cell_type": "code",
   "execution_count": 41,
   "id": "0214ee47",
   "metadata": {},
   "outputs": [
    {
     "data": {
      "text/plain": [
       "((57,),\n",
       " (57, 1),\n",
       " array([[136.05388],\n",
       "        [129.54703],\n",
       "        [146.36783],\n",
       "        [157.26581],\n",
       "        [154.53853],\n",
       "        [143.23091],\n",
       "        [129.51161],\n",
       "        [117.22145],\n",
       "        [130.96391],\n",
       "        [123.63641],\n",
       "        [134.79521],\n",
       "        [149.82841],\n",
       "        [141.2921 ],\n",
       "        [133.57768],\n",
       "        [161.64664],\n",
       "        [179.67213],\n",
       "        [174.01918],\n",
       "        [162.62582],\n",
       "        [141.34564],\n",
       "        [127.82242],\n",
       "        [155.47552],\n",
       "        [153.40703],\n",
       "        [156.85963],\n",
       "        [189.18715],\n",
       "        [165.76466],\n",
       "        [180.36336],\n",
       "        [188.49115],\n",
       "        [208.80513],\n",
       "        [202.87383],\n",
       "        [184.47029],\n",
       "        [168.03   ],\n",
       "        [158.06432],\n",
       "        [182.17294],\n",
       "        [180.33394],\n",
       "        [186.95184],\n",
       "        [201.62466],\n",
       "        [183.4558 ],\n",
       "        [190.54544],\n",
       "        [233.77162],\n",
       "        [234.60646],\n",
       "        [240.53201],\n",
       "        [198.25179],\n",
       "        [193.70903],\n",
       "        [184.04762],\n",
       "        [210.60577],\n",
       "        [204.35516],\n",
       "        [199.27396],\n",
       "        [250.55797],\n",
       "        [234.1258 ],\n",
       "        [221.71027],\n",
       "        [249.81294],\n",
       "        [270.79752],\n",
       "        [266.50937],\n",
       "        [216.59538],\n",
       "        [208.00449],\n",
       "        [189.64047],\n",
       "        [220.24754]], dtype=float32))"
      ]
     },
     "execution_count": 41,
     "metadata": {},
     "output_type": "execute_result"
    }
   ],
   "source": [
    "y_train.shape,train_predict.shape,train_predict"
   ]
  },
  {
   "cell_type": "code",
   "execution_count": 42,
   "id": "39f88125",
   "metadata": {},
   "outputs": [
    {
     "data": {
      "text/plain": [
       "185.08043890262118"
      ]
     },
     "execution_count": 42,
     "metadata": {},
     "output_type": "execute_result"
    }
   ],
   "source": [
    "### Calculate RMSE performance metrics\n",
    "import math\n",
    "from sklearn.metrics import mean_squared_error\n",
    "math.sqrt(mean_squared_error(y_train,train_predict))"
   ]
  },
  {
   "cell_type": "code",
   "execution_count": 43,
   "id": "cbfee4cb",
   "metadata": {},
   "outputs": [
    {
     "data": {
      "text/plain": [
       "185.08043890262118"
      ]
     },
     "execution_count": 43,
     "metadata": {},
     "output_type": "execute_result"
    }
   ],
   "source": [
    "### Calculate RMSE performance metrics\n",
    "import math\n",
    "from sklearn.metrics import mean_squared_error\n",
    "math.sqrt(mean_squared_error(y_train,train_predict))"
   ]
  },
  {
   "cell_type": "code",
   "execution_count": 44,
   "id": "d5b99be5",
   "metadata": {},
   "outputs": [
    {
     "data": {
      "image/png": "[encoded data removed]",
      "text/plain": [
       "<Figure size 432x288 with 1 Axes>"
      ]
     },
     "metadata": {
      "needs_background": "light"
     },
     "output_type": "display_data"
    }
   ],
   "source": [
    "### Plotting \n",
    "# shift train predictions for plotting\n",
    "look_back=4\n",
    "trainPredictPlot = np.empty_like(df)\n",
    "trainPredictPlot[:, :] = np.nan\n",
    "trainPredictPlot[look_back:len(train_predict)+look_back, :] = train_predict\n",
    "# shift test predictions for plotting\n",
    "testPredictPlot = np.empty_like(df)\n",
    "testPredictPlot[:, :] = np.nan\n",
    "testPredictPlot[len(train_predict)+(look_back*2)+1:len(df)-1, :] = test_predict\n",
    "# plot baseline and predictions\n",
    "plt.plot(scaler.inverse_transform(df))\n",
    "plt.plot(trainPredictPlot)\n",
    "plt.plot(testPredictPlot)\n",
    "plt.show()"
   ]
  },
  {
   "cell_type": "code",
   "execution_count": null,
   "id": "0ddebe44",
   "metadata": {},
   "outputs": [],
   "source": []
  }
 ],
 "metadata": {
  "kernelspec": {
   "display_name": "Python 3 (ipykernel)",
   "language": "python",
   "name": "python3"
  },
  "language_info": {
   "codemirror_mode": {
    "name": "ipython",
    "version": 3
   },
   "file_extension": ".py",
   "mimetype": "text/x-python",
   "name": "python",
   "nbconvert_exporter": "python",
   "pygments_lexer": "ipython3",
   "version": "3.9.7"
  }
 },
 "nbformat": 4,
 "nbformat_minor": 5
}
